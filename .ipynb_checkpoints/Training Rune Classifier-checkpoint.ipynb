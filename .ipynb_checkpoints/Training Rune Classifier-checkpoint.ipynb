{
 "cells": [
  {
   "cell_type": "code",
   "execution_count": null,
   "id": "human-campus",
   "metadata": {},
   "outputs": [],
   "source": []
  },
  {
   "cell_type": "code",
   "execution_count": 10,
   "id": "rocky-cleveland",
   "metadata": {
    "ExecuteTime": {
     "end_time": "2021-03-12T01:12:15.411759Z",
     "start_time": "2021-03-12T01:12:15.406774Z"
    }
   },
   "outputs": [],
   "source": [
    "import pandas as pd\n",
    "from pathlib import Path\n",
    "from PIL import Image\n",
    "from itertools import product\n",
    "import cv2\n",
    "import numpy as np"
   ]
  },
  {
   "cell_type": "code",
   "execution_count": 5,
   "id": "broke-chess",
   "metadata": {
    "ExecuteTime": {
     "end_time": "2021-03-12T01:11:37.603042Z",
     "start_time": "2021-03-12T01:11:37.594066Z"
    }
   },
   "outputs": [],
   "source": [
    "dataset_folder = Path('./runes/')\n",
    "bu_runes = list(dataset_folder.glob('bu/*.csv'))\n",
    "ahl_runes = list(dataset_folder.glob('ahl/*.csv'))\n",
    "tes_runes = list(dataset_folder.glob('tes/*.csv'))"
   ]
  },
  {
   "cell_type": "code",
   "execution_count": 6,
   "id": "developed-catch",
   "metadata": {
    "ExecuteTime": {
     "end_time": "2021-03-12T01:11:38.130163Z",
     "start_time": "2021-03-12T01:11:37.861095Z"
    }
   },
   "outputs": [],
   "source": [
    "bu_marks = [pd.read_csv(row, header=None) for row in bu_runes]\n",
    "ahl_marks = [pd.read_csv(row, header=None) for row in ahl_runes]\n",
    "tes_marks = [pd.read_csv(row, header=None) for row in tes_runes]"
   ]
  },
  {
   "cell_type": "code",
   "execution_count": 242,
   "id": "consistent-trace",
   "metadata": {
    "ExecuteTime": {
     "end_time": "2021-03-14T01:05:11.987461Z",
     "start_time": "2021-03-14T01:05:11.971306Z"
    }
   },
   "outputs": [],
   "source": [
    "def gen_img(mouse_df: pd.DataFrame, desired_shape: tuple = (100, 100)):\n",
    "    screen_width = mouse_df[2].max()\n",
    "    screen_height = mouse_df[3].max()\n",
    "    img_array = np.zeros(desired_shape, dtype=np.uint8)\n",
    "    img_array.fill(255)\n",
    "    width = ((mouse_df[0]/screen_width)*desired_shape[0]).astype(int)\n",
    "    height = ((mouse_df[1]/screen_height)*desired_shape[1]).astype(int)\n",
    "    img_array[width, height] = 0\n",
    "    kernel = np.ones((2,2),np.uint8)\n",
    "    img_array = cv2.erode(img_array, kernel, iterations=1)\n",
    "    return img_array"
   ]
  },
  {
   "cell_type": "code",
   "execution_count": 243,
   "id": "protected-acoustic",
   "metadata": {
    "ExecuteTime": {
     "end_time": "2021-03-14T01:05:17.577685Z",
     "start_time": "2021-03-14T01:05:17.563102Z"
    }
   },
   "outputs": [],
   "source": [
    "new_img = gen_img(tes_marks[1])"
   ]
  },
  {
   "cell_type": "code",
   "execution_count": 244,
   "id": "pretty-relations",
   "metadata": {
    "ExecuteTime": {
     "end_time": "2021-03-14T01:05:22.736290Z",
     "start_time": "2021-03-14T01:05:22.711556Z"
    }
   },
   "outputs": [
    {
     "data": {
      "image/png": "[encoded data removed]",
      "text/plain": [
       "<PIL.Image.Image image mode=L size=100x100 at 0x26CB004B9D0>"
      ]
     },
     "execution_count": 244,
     "metadata": {},
     "output_type": "execute_result"
    }
   ],
   "source": [
    "Image.fromarray(new_img, mode='L')"
   ]
  },
  {
   "cell_type": "code",
   "execution_count": 257,
   "id": "illegal-rwanda",
   "metadata": {
    "ExecuteTime": {
     "end_time": "2021-03-14T01:10:13.888203Z",
     "start_time": "2021-03-14T01:10:13.563527Z"
    }
   },
   "outputs": [],
   "source": [
    "ahl_imgs = np.array([gen_img(x) for x in ahl_marks])\n",
    "bu_imgs = np.array([gen_img(x) for x in bu_marks])\n",
    "tes_imgs = np.array([gen_img(x) for x in tes_marks])"
   ]
  },
  {
   "cell_type": "code",
   "execution_count": 296,
   "id": "generous-glass",
   "metadata": {
    "ExecuteTime": {
     "end_time": "2021-03-14T01:28:54.579106Z",
     "start_time": "2021-03-14T01:28:54.552750Z"
    }
   },
   "outputs": [],
   "source": [
    "train_imgs = np.concatenate((ahl_imgs, bu_imgs, tes_imgs)).reshape(150, 100, 100, 1)"
   ]
  },
  {
   "cell_type": "code",
   "execution_count": 265,
   "id": "scenic-efficiency",
   "metadata": {
    "ExecuteTime": {
     "end_time": "2021-03-14T01:13:42.110823Z",
     "start_time": "2021-03-14T01:13:42.090311Z"
    }
   },
   "outputs": [],
   "source": [
    "labels = [0, 1, 2] #Ahl, Bu, Tes\n",
    "train_labels = np.concatenate((np.array([labels[0]]*len(ahl_imgs)),\n",
    "                              np.array([labels[1]]*len(bu_imgs)),\n",
    "                              np.array([labels[2]]*len(tes_imgs))\n",
    "                             ))"
   ]
  },
  {
   "cell_type": "code",
   "execution_count": 295,
   "id": "improving-scroll",
   "metadata": {
    "ExecuteTime": {
     "end_time": "2021-03-14T01:28:44.488450Z",
     "start_time": "2021-03-14T01:28:44.047906Z"
    }
   },
   "outputs": [
    {
     "name": "stdout",
     "output_type": "stream",
     "text": [
      "Model: \"sequential_11\"\n",
      "_________________________________________________________________\n",
      "Layer (type)                 Output Shape              Param #   \n",
      "=================================================================\n",
      "conv2d_22 (Conv2D)           (None, 98, 98, 64)        640       \n",
      "_________________________________________________________________\n",
      "max_pooling2d_22 (MaxPooling (None, 49, 49, 64)        0         \n",
      "_________________________________________________________________\n",
      "conv2d_23 (Conv2D)           (None, 47, 47, 64)        36928     \n",
      "_________________________________________________________________\n",
      "max_pooling2d_23 (MaxPooling (None, 23, 23, 64)        0         \n",
      "_________________________________________________________________\n",
      "flatten_11 (Flatten)         (None, 33856)             0         \n",
      "_________________________________________________________________\n",
      "dense_22 (Dense)             (None, 128)               4333696   \n",
      "_________________________________________________________________\n",
      "dense_23 (Dense)             (None, 3)                 387       \n",
      "=================================================================\n",
      "Total params: 4,371,651\n",
      "Trainable params: 4,371,651\n",
      "Non-trainable params: 0\n",
      "_________________________________________________________________\n"
     ]
    }
   ],
   "source": [
    "import tensorflow as tf\n",
    "\n",
    "model = tf.keras.models.Sequential([\n",
    "  tf.keras.layers.Conv2D(64, (3,3), activation='relu', input_shape=(100, 100, 1)),\n",
    "  tf.keras.layers.MaxPooling2D(2, 2),\n",
    "  tf.keras.layers.Conv2D(64, (3,3), activation='relu'),\n",
    "  tf.keras.layers.MaxPooling2D(2,2),\n",
    "  tf.keras.layers.Flatten(),\n",
    "  tf.keras.layers.Dense(128, activation='relu'),\n",
    "  tf.keras.layers.Dense(len(labels), activation='softmax')\n",
    "])\n",
    "model.compile(optimizer='adam', loss='sparse_categorical_crossentropy', metrics=['accuracy'])\n",
    "model.summary()"
   ]
  },
  {
   "cell_type": "code",
   "execution_count": 297,
   "id": "funky-confidentiality",
   "metadata": {
    "ExecuteTime": {
     "end_time": "2021-03-14T01:30:21.221673Z",
     "start_time": "2021-03-14T01:29:04.967483Z"
    }
   },
   "outputs": [
    {
     "name": "stdout",
     "output_type": "stream",
     "text": [
      "Epoch 1/5\n",
      "5/5 [==============================] - 18s 3s/step - loss: 415.4114 - accuracy: 0.2573\n",
      "Epoch 2/5\n",
      "5/5 [==============================] - 14s 3s/step - loss: 28.0108 - accuracy: 0.3489\n",
      "Epoch 3/5\n",
      "5/5 [==============================] - 15s 3s/step - loss: 2.5677 - accuracy: 0.5651\n",
      "Epoch 4/5\n",
      "5/5 [==============================] - 16s 3s/step - loss: 0.4461 - accuracy: 0.8093\n",
      "Epoch 5/5\n",
      "5/5 [==============================] - 12s 2s/step - loss: 0.2742 - accuracy: 0.9248\n"
     ]
    },
    {
     "data": {
      "text/plain": [
       "<tensorflow.python.keras.callbacks.History at 0x26cb8d1aca0>"
      ]
     },
     "execution_count": 297,
     "metadata": {},
     "output_type": "execute_result"
    }
   ],
   "source": [
    "model.fit(train_imgs, train_labels, epochs=5)"
   ]
  },
  {
   "cell_type": "code",
   "execution_count": 288,
   "id": "pointed-poker",
   "metadata": {
    "ExecuteTime": {
     "end_time": "2021-03-14T01:21:12.775521Z",
     "start_time": "2021-03-14T01:21:12.600529Z"
    }
   },
   "outputs": [
    {
     "data": {
      "text/plain": [
       "array([[0.00116129, 0.00384711, 0.9949916 ]], dtype=float32)"
      ]
     },
     "execution_count": 288,
     "metadata": {},
     "output_type": "execute_result"
    }
   ],
   "source": [
    "model.predict([tes_imgs[0].reshape(1, 100, 100, 1)])"
   ]
  },
  {
   "cell_type": "code",
   "execution_count": 307,
   "id": "binary-printer",
   "metadata": {
    "ExecuteTime": {
     "end_time": "2021-03-14T01:38:48.629639Z",
     "start_time": "2021-03-14T01:38:46.981408Z"
    }
   },
   "outputs": [
    {
     "name": "stdout",
     "output_type": "stream",
     "text": [
      "INFO:tensorflow:Assets written to: models/assets\n"
     ]
    },
    {
     "name": "stderr",
     "output_type": "stream",
     "text": [
      "INFO:tensorflow:Assets written to: models/assets\n"
     ]
    }
   ],
   "source": [
    "model.save('models/')"
   ]
  },
  {
   "cell_type": "code",
   "execution_count": 309,
   "id": "biological-briefing",
   "metadata": {
    "ExecuteTime": {
     "end_time": "2021-03-14T01:39:06.222853Z",
     "start_time": "2021-03-14T01:39:03.008159Z"
    }
   },
   "outputs": [],
   "source": [
    "converter = tf.lite.TFLiteConverter.from_saved_model(saved_model_dir='models/')\n",
    "tflite_model = converter.convert()\n",
    "\n",
    "# # Save the model.\n",
    "with open('models/model.tflite', 'wb') as f:\n",
    "    f.write(tflite_model)"
   ]
  }
 ],
 "metadata": {
  "kernelspec": {
   "display_name": "Python 3",
   "language": "python",
   "name": "python3"
  },
  "language_info": {
   "codemirror_mode": {
    "name": "ipython",
    "version": 3
   },
   "file_extension": ".py",
   "mimetype": "text/x-python",
   "name": "python",
   "nbconvert_exporter": "python",
   "pygments_lexer": "ipython3",
   "version": "3.8.5"
  },
  "varInspector": {
   "cols": {
    "lenName": 16,
    "lenType": 16,
    "lenVar": 40
   },
   "kernels_config": {
    "python": {
     "delete_cmd_postfix": "",
     "delete_cmd_prefix": "del ",
     "library": "var_list.py",
     "varRefreshCmd": "print(var_dic_list())"
    },
    "r": {
     "delete_cmd_postfix": ") ",
     "delete_cmd_prefix": "rm(",
     "library": "var_list.r",
     "varRefreshCmd": "cat(var_dic_list()) "
    }
   },
   "types_to_exclude": [
    "module",
    "function",
    "builtin_function_or_method",
    "instance",
    "_Feature"
   ],
   "window_display": false
  }
 },
 "nbformat": 4,
 "nbformat_minor": 5
}
